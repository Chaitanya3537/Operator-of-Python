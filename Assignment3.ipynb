{
 "cells": [
  {
   "cell_type": "code",
   "execution_count": 3,
   "metadata": {},
   "outputs": [
    {
     "name": "stdout",
     "output_type": "stream",
     "text": [
      "Before: 5\n",
      "After: 10\n"
     ]
    }
   ],
   "source": [
    "# 1. Define a global variable x with value 5. Write a Python function update_x() that tries to modify the global variable x to 10. \n",
    "#    Print the value of x before and after calling the function.\n",
    "\n",
    "x = 5\n",
    "\n",
    "def update_x():\n",
    "    return 10 \n",
    "\n",
    "print(\"Before:\", x)\n",
    "\n",
    "x = update_x()\n",
    "\n",
    "print(\"After:\", x)"
   ]
  },
  {
   "cell_type": "code",
   "execution_count": 3,
   "metadata": {},
   "outputs": [
    {
     "name": "stdout",
     "output_type": "stream",
     "text": [
      "Addition of 6 and 7 is: 13\n",
      "Multiplication of 6 and 7 is: 42\n"
     ]
    }
   ],
   "source": [
    "# 2. Create a Python module named calculator.py with functions add(a, b) and multiply(a, b). \n",
    "# Import this module into another Python script and use these functions to add and multiply two numbers\n",
    "\n",
    "import calculator\n",
    "\n",
    "result_add = calculator.add(6, 7)\n",
    "print(\"Addition of 6 and 7 is:\", result_add)\n",
    "\n",
    "result_multiply = calculator.multiply(6, 7)\n",
    "print(\"Multiplication of 6 and 7 is:\", result_multiply)\n"
   ]
  },
  {
   "cell_type": "code",
   "execution_count": 5,
   "metadata": {},
   "outputs": [
    {
     "name": "stdout",
     "output_type": "stream",
     "text": [
      "No.of days in between :  31 days, 0:00:00\n"
     ]
    }
   ],
   "source": [
    "#3. Write a Python function to find the number of days between two given dates.\n",
    "\n",
    "from datetime import date\n",
    "\n",
    "start_date = date(2024, 5, 25)\n",
    "\n",
    "end_date = date(2024, 6, 25)\n",
    "\n",
    "due = end_date - start_date\n",
    "\n",
    "print(\"No.of days in between : \",due)"
   ]
  },
  {
   "cell_type": "code",
   "execution_count": 6,
   "metadata": {},
   "outputs": [
    {
     "name": "stdout",
     "output_type": "stream",
     "text": [
      "Factorial of  5  :  120\n"
     ]
    }
   ],
   "source": [
    "#4. Write a Python function to calculate the factorial of a given number n.\n",
    "\n",
    "n = 5\n",
    "\n",
    "import math\n",
    "\n",
    "fact = math.factorial(n)\n",
    "\n",
    "print(\"Factorial of \",n,\" : \",fact)\n"
   ]
  },
  {
   "cell_type": "code",
   "execution_count": 9,
   "metadata": {},
   "outputs": [
    {
     "name": "stdout",
     "output_type": "stream",
     "text": [
      "{\"Name\": \"Chaitanya\", \"Designation\": \"Software Developer\", \"Salary\": \"400000\"}\n",
      "<class 'str'>\n",
      "{'Name': 'Chaitanya', 'Designation': 'Software Developer', 'Salary': '400000'}\n",
      "<class 'dict'>\n"
     ]
    }
   ],
   "source": [
    "#5. Given a JSON string representing a dictionary, write a Python function to convert it into a Python dictionary object.\n",
    "\n",
    "import json\n",
    "\n",
    "data = {\n",
    "         \"Name\" : \"Chaitanya\",\n",
    "         \"Designation\" : \"Software Developer\",\n",
    "         \"Salary\" : \"400000\"   \n",
    "        }\n",
    "json_data = json.dumps(data)\n",
    "print(json_data)\n",
    "print(type(json_data))\n",
    "\n",
    "\n",
    "dict = json.loads(json_data)\n",
    "print(dict)\n",
    "print(type(dict))"
   ]
  },
  {
   "cell_type": "code",
   "execution_count": 37,
   "metadata": {},
   "outputs": [
    {
     "name": "stdout",
     "output_type": "stream",
     "text": [
      "All the emails in the text:\n",
      "chaitanyasaikrishna999@gmail.com\n",
      "chaitanyasaikrishna.s@arnocit.com\n",
      "Cskrishna963@gmail.com\n"
     ]
    }
   ],
   "source": [
    "#6. Write a Python program to extract all email addresses from a given text using regular expressions.\n",
    "\n",
    "import re\n",
    "\n",
    "text = '''Hello chaitanyasaikrishna999@gmail.com . \n",
    "          Working in  chaitanyasaikrishna.s@arnocit.com \n",
    "          For any Information, contact me at Cskrishna963@gmail.com.'''\n",
    "\n",
    "pattern = r'\\b[A-Za-z0-9._%+-]+@[A-Za-z0-9.-]+\\.[A-Z|a-z]{2,}\\b'\n",
    "\n",
    "extracted_emails = re.findall(pattern, text)\n",
    "\n",
    "print(\"All the emails in the text:\")\n",
    "for email in extracted_emails:\n",
    "    print(email)\n"
   ]
  },
  {
   "cell_type": "code",
   "execution_count": 25,
   "metadata": {},
   "outputs": [
    {
     "name": "stdout",
     "output_type": "stream",
     "text": [
      "Global variable :  10\n",
      "Local variable :  20\n"
     ]
    }
   ],
   "source": [
    "#7. Explain the difference between local and global variables in Python with an example.\n",
    "\n",
    "# Local Variables:- \n",
    "\n",
    "\"\"\"Local variables are those defined within a function.\n",
    "They can only be used within the function where they are defined.\n",
    "It cannot be accessed anywhere outside the function\"\"\"\n",
    "\n",
    "#Global Variables:\n",
    "\n",
    "\"\"\"Global variables are those defined outside of any function.\n",
    "Accessible throughout the entire program\n",
    "Can be accessed from any function.\"\"\"\n",
    "\n",
    "x = 10\n",
    "\n",
    "def myfunction() :\n",
    "    global x\n",
    "    \n",
    "    y = 20\n",
    "    \n",
    "    print(\"Local variable : \",y)\n",
    "    \n",
    "print(\"Global variable : \",x)\n",
    "\n",
    "myfunction()\n"
   ]
  },
  {
   "cell_type": "code",
   "execution_count": 30,
   "metadata": {},
   "outputs": [
    {
     "name": "stdout",
     "output_type": "stream",
     "text": [
      "sum of 6 and 7 is: 13\n"
     ]
    }
   ],
   "source": [
    "#8.  What is a Python module? Give an example of how to import and use a module.\n",
    "\n",
    "'''Module:-\n",
    "         1.A Python module is a file containing Python code, which can define functions, classes, and variables. \n",
    "          2.Modules allow you to organize your code into reusable components, making it easier to manage and maintain large programs.\n",
    "          3.To create a module, you simply write Python code in a file with a .py extension.\n",
    "          4.You can then import this module into other Python scripts to access its contents.'''\n",
    "\n",
    "import calculator\n",
    "\n",
    "addition = calculator.add(6, 7)\n",
    "print(\"sum of 6 and 7 is:\", addition)"
   ]
  },
  {
   "cell_type": "code",
   "execution_count": 32,
   "metadata": {},
   "outputs": [
    {
     "name": "stdout",
     "output_type": "stream",
     "text": [
      "Today's date & current time :  2024-05-26 11:55:41.920651\n"
     ]
    }
   ],
   "source": [
    "#9.Write a Python function to get the current date and time.\n",
    "\n",
    "import datetime\n",
    "\n",
    "current_date_time = datetime.datetime.now()\n",
    "\n",
    "print(\"Today's date & current time : \",current_date_time)"
   ]
  },
  {
   "cell_type": "code",
   "execution_count": 36,
   "metadata": {},
   "outputs": [
    {
     "name": "stdout",
     "output_type": "stream",
     "text": [
      "GCD of 10 and 20 is: 10\n"
     ]
    }
   ],
   "source": [
    "# 10.Write a Python function to calculate the greatest common divisor (GCD) of two numbers.\n",
    "\n",
    "import math\n",
    "\n",
    "def calculate_gcd(a, b):\n",
    "    return math.gcd(a, b)\n",
    "\n",
    "num1 = 10\n",
    "num2 = 20\n",
    "\n",
    "result = calculate_gcd(num1, num2)\n",
    "\n",
    "print(\"GCD of\", num1, \"and\", num2, \"is:\", result)"
   ]
  }
 ],
 "metadata": {
  "kernelspec": {
   "display_name": "Python 3",
   "language": "python",
   "name": "python3"
  },
  "language_info": {
   "codemirror_mode": {
    "name": "ipython",
    "version": 3
   },
   "file_extension": ".py",
   "mimetype": "text/x-python",
   "name": "python",
   "nbconvert_exporter": "python",
   "pygments_lexer": "ipython3",
   "version": "3.12.0"
  }
 },
 "nbformat": 4,
 "nbformat_minor": 2
}
