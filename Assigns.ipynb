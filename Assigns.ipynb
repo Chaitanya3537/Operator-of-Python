{
 "cells": [
  {
   "cell_type": "code",
   "execution_count": 1,
   "metadata": {},
   "outputs": [
    {
     "name": "stdout",
     "output_type": "stream",
     "text": [
      "not greater than 5\n",
      "not greater than 5\n",
      "not greater than 5\n",
      "not greater than 5\n",
      "not greater than 5\n",
      "greater than 5\n",
      "greater than 5\n",
      "greater than 5\n",
      "greater than 5\n"
     ]
    }
   ],
   "source": [
    "#for loop\n",
    "for i in range(1,10):\n",
    "    \n",
    "    if i > 5:\n",
    "        print('greater than 5')\n",
    "    else:\n",
    "        print('not greater than 5')"
   ]
  },
  {
   "cell_type": "code",
   "execution_count": 2,
   "metadata": {},
   "outputs": [
    {
     "name": "stdout",
     "output_type": "stream",
     "text": [
      "I am Not in if\n"
     ]
    }
   ],
   "source": [
    "#if statement\n",
    "i = 10\n",
    "  \n",
    "if (i > 15): \n",
    "    print(\"10 is less than 15\") \n",
    "print(\"I am Not in if\") "
   ]
  },
  {
   "cell_type": "code",
   "execution_count": 3,
   "metadata": {},
   "outputs": [
    {
     "name": "stdout",
     "output_type": "stream",
     "text": [
      "i is greater than 15\n",
      "i'm in else Block\n",
      "i'm not in if and not in else Block\n"
     ]
    }
   ],
   "source": [
    "#if else statement\n",
    "i = 30\n",
    "if (i < 15): \n",
    "    print(\"i is smaller than 15\") \n",
    "    print(\"i'm in if Block\") \n",
    "else: \n",
    "    print(\"i is greater than 15\") \n",
    "    print(\"i'm in else Block\") \n",
    "print(\"i'm not in if and not in else Block\") "
   ]
  },
  {
   "cell_type": "code",
   "execution_count": 4,
   "metadata": {},
   "outputs": [
    {
     "name": "stdout",
     "output_type": "stream",
     "text": [
      "Above ten,\n",
      "and also above 20!\n"
     ]
    }
   ],
   "source": [
    "#nested if\n",
    "x = 41\n",
    "\n",
    "if x > 10:\n",
    "  print(\"Above ten,\")\n",
    "  if x > 20:\n",
    "    print(\"and also above 20!\")\n",
    "  else:\n",
    "    print(\"but not above 20.\")"
   ]
  },
  {
   "cell_type": "code",
   "execution_count": 5,
   "metadata": {},
   "outputs": [
    {
     "name": "stdout",
     "output_type": "stream",
     "text": [
      "i is 20\n"
     ]
    }
   ],
   "source": [
    "#elif\n",
    "i = 20\n",
    "if (i == 10): \n",
    "    print(\"i is 10\") \n",
    "elif (i == 15): \n",
    "    print(\"i is 15\") \n",
    "elif (i == 20): \n",
    "    print(\"i is 20\") \n",
    "else: \n",
    "    print(\"i is not present\") "
   ]
  },
  {
   "cell_type": "code",
   "execution_count": 6,
   "metadata": {},
   "outputs": [
    {
     "name": "stdout",
     "output_type": "stream",
     "text": [
      "apple\n",
      "banana\n"
     ]
    }
   ],
   "source": [
    "#break\n",
    "fruits = [\"apple\", \"banana\", \"cherry\"]\n",
    "for x in fruits:\n",
    "  print(x) \n",
    "  if x == \"banana\":\n",
    "    break"
   ]
  },
  {
   "cell_type": "code",
   "execution_count": 8,
   "metadata": {},
   "outputs": [
    {
     "name": "stdout",
     "output_type": "stream",
     "text": [
      "apple\n",
      "cherry\n"
     ]
    }
   ],
   "source": [
    "#continue\n",
    "fruits = [\"apple\", \"banana\", \"cherry\"]\n",
    "for x in fruits:\n",
    "  if x == \"banana\":\n",
    "    continue\n",
    "  print(x) "
   ]
  },
  {
   "cell_type": "code",
   "execution_count": 9,
   "metadata": {},
   "outputs": [
    {
     "name": "stdout",
     "output_type": "stream",
     "text": [
      "Hello world\n",
      "Hello world\n",
      "Hello world\n"
     ]
    }
   ],
   "source": [
    "num = 0\n",
    "while (num < 3): \n",
    "    num = num + 1\n",
    "    print(\"Hello world\")\n"
   ]
  },
  {
   "cell_type": "code",
   "execution_count": 11,
   "metadata": {},
   "outputs": [
    {
     "name": "stdout",
     "output_type": "stream",
     "text": [
      "character is A\n"
     ]
    }
   ],
   "source": [
    "character = 'A'\n",
    "\n",
    "match character:\n",
    "    case 'A':\n",
    "        print(\"character is A\")\n",
    "    case 'B':\n",
    "        print(\"character is B\")\n",
    "    case 'C':\n",
    "        print(\"character is C\")"
   ]
  },
  {
   "cell_type": "code",
   "execution_count": 10,
   "metadata": {},
   "outputs": [
    {
     "name": "stdout",
     "output_type": "stream",
     "text": [
      "5\n",
      "6\n",
      "7\n",
      "8\n",
      "9\n"
     ]
    }
   ],
   "source": [
    "for i in range(10):\n",
    "    if i < 5:\n",
    "        pass\n",
    "    else:\n",
    "        print(i)"
   ]
  },
  {
   "cell_type": "code",
   "execution_count": 18,
   "metadata": {},
   "outputs": [
    {
     "name": "stdout",
     "output_type": "stream",
     "text": [
      "Sum: 15\n",
      "Difference: -5\n",
      "Multiplication: 50\n",
      "Division: 0.5\n",
      "Modulus: 5\n",
      "FloorDivision 0\n",
      "Exponentiation 9765625\n"
     ]
    }
   ],
   "source": [
    "#Operators\n",
    "# Assigning integer values to variables\n",
    "\n",
    "x = 5\n",
    "\n",
    "y = 10\n",
    "\n",
    "# Performing arithmetic operations\n",
    "\n",
    "addition = x + y\n",
    "\n",
    "subtraction = x - y\n",
    "\n",
    "multiplication = x * y\n",
    "\n",
    "division = x / y\n",
    "\n",
    "modulus = x % y\n",
    "\n",
    "floordivision = x // y\n",
    "\n",
    "exponent = x ** y\n",
    "\n",
    "# Printing the results\n",
    "\n",
    "print(\"Sum:\", addition)\n",
    "\n",
    "print(\"Difference:\", subtraction)\n",
    "\n",
    "print(\"Multiplication:\", multiplication)\n",
    "\n",
    "print(\"Division:\", division)\n",
    "\n",
    "print(\"Modulus:\", modulus)\n",
    "\n",
    "print(\"FloorDivision\", floordivision)\n",
    "\n",
    "print(\"Exponentiation\", exponent)"
   ]
  },
  {
   "cell_type": "code",
   "execution_count": 19,
   "metadata": {},
   "outputs": [
    {
     "name": "stdout",
     "output_type": "stream",
     "text": [
      "5 is of type <class 'int'>\n",
      "2.0 is of type <class 'float'>\n",
      "(1+2j) is of type <class 'complex'>\n"
     ]
    }
   ],
   "source": [
    "num1 = 5\n",
    "print(num1, 'is of type', type(num1))\n",
    "\n",
    "num2 = 2.0\n",
    "print(num2, 'is of type', type(num2))\n",
    "\n",
    "num3 = 1+2j\n",
    "print(num3, 'is of type', type(num3))"
   ]
  }
 ],
 "metadata": {
  "kernelspec": {
   "display_name": "Python 3",
   "language": "python",
   "name": "python3"
  },
  "language_info": {
   "codemirror_mode": {
    "name": "ipython",
    "version": 3
   },
   "file_extension": ".py",
   "mimetype": "text/x-python",
   "name": "python",
   "nbconvert_exporter": "python",
   "pygments_lexer": "ipython3",
   "version": "3.12.0"
  }
 },
 "nbformat": 4,
 "nbformat_minor": 2
}
